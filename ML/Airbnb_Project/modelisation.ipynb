{
 "cells": [
  {
   "cell_type": "code",
   "execution_count": 1,
   "id": "9b39e79c",
   "metadata": {},
   "outputs": [
    {
     "name": "stdout",
     "output_type": "stream",
     "text": [
      "Shape: (22234, 63)\n"
     ]
    },
    {
     "data": {
      "text/html": [
       "<div>\n",
       "<style scoped>\n",
       "    .dataframe tbody tr th:only-of-type {\n",
       "        vertical-align: middle;\n",
       "    }\n",
       "\n",
       "    .dataframe tbody tr th {\n",
       "        vertical-align: top;\n",
       "    }\n",
       "\n",
       "    .dataframe thead th {\n",
       "        text-align: right;\n",
       "    }\n",
       "</style>\n",
       "<table border=\"1\" class=\"dataframe\">\n",
       "  <thead>\n",
       "    <tr style=\"text-align: right;\">\n",
       "      <th></th>\n",
       "      <th>log_price</th>\n",
       "      <th>accommodates</th>\n",
       "      <th>bathrooms</th>\n",
       "      <th>cleaning_fee</th>\n",
       "      <th>host_has_profile_pic</th>\n",
       "      <th>host_identity_verified</th>\n",
       "      <th>host_response_rate</th>\n",
       "      <th>instant_bookable</th>\n",
       "      <th>latitude</th>\n",
       "      <th>longitude</th>\n",
       "      <th>...</th>\n",
       "      <th>cancellation_policy_super_strict_30</th>\n",
       "      <th>cancellation_policy_super_strict_60</th>\n",
       "      <th>city_Chicago</th>\n",
       "      <th>city_DC</th>\n",
       "      <th>city_LA</th>\n",
       "      <th>city_NYC</th>\n",
       "      <th>city_SF</th>\n",
       "      <th>n_amenities</th>\n",
       "      <th>desc_length</th>\n",
       "      <th>host_duration</th>\n",
       "    </tr>\n",
       "  </thead>\n",
       "  <tbody>\n",
       "    <tr>\n",
       "      <th>0</th>\n",
       "      <td>4.317488</td>\n",
       "      <td>3</td>\n",
       "      <td>1.0</td>\n",
       "      <td>False</td>\n",
       "      <td>t</td>\n",
       "      <td>f</td>\n",
       "      <td>NaN</td>\n",
       "      <td>t</td>\n",
       "      <td>33.782712</td>\n",
       "      <td>-118.134410</td>\n",
       "      <td>...</td>\n",
       "      <td>False</td>\n",
       "      <td>False</td>\n",
       "      <td>False</td>\n",
       "      <td>False</td>\n",
       "      <td>True</td>\n",
       "      <td>False</td>\n",
       "      <td>False</td>\n",
       "      <td>15</td>\n",
       "      <td>669</td>\n",
       "      <td>3492.0</td>\n",
       "    </tr>\n",
       "    <tr>\n",
       "      <th>1</th>\n",
       "      <td>4.007333</td>\n",
       "      <td>4</td>\n",
       "      <td>2.0</td>\n",
       "      <td>False</td>\n",
       "      <td>t</td>\n",
       "      <td>t</td>\n",
       "      <td>100%</td>\n",
       "      <td>t</td>\n",
       "      <td>40.705468</td>\n",
       "      <td>-73.909439</td>\n",
       "      <td>...</td>\n",
       "      <td>False</td>\n",
       "      <td>False</td>\n",
       "      <td>False</td>\n",
       "      <td>False</td>\n",
       "      <td>False</td>\n",
       "      <td>True</td>\n",
       "      <td>False</td>\n",
       "      <td>25</td>\n",
       "      <td>1000</td>\n",
       "      <td>3164.0</td>\n",
       "    </tr>\n",
       "    <tr>\n",
       "      <th>2</th>\n",
       "      <td>7.090077</td>\n",
       "      <td>6</td>\n",
       "      <td>2.0</td>\n",
       "      <td>False</td>\n",
       "      <td>t</td>\n",
       "      <td>f</td>\n",
       "      <td>NaN</td>\n",
       "      <td>t</td>\n",
       "      <td>38.917537</td>\n",
       "      <td>-77.031651</td>\n",
       "      <td>...</td>\n",
       "      <td>False</td>\n",
       "      <td>False</td>\n",
       "      <td>False</td>\n",
       "      <td>True</td>\n",
       "      <td>False</td>\n",
       "      <td>False</td>\n",
       "      <td>False</td>\n",
       "      <td>20</td>\n",
       "      <td>494</td>\n",
       "      <td>3127.0</td>\n",
       "    </tr>\n",
       "    <tr>\n",
       "      <th>3</th>\n",
       "      <td>3.555348</td>\n",
       "      <td>1</td>\n",
       "      <td>1.0</td>\n",
       "      <td>True</td>\n",
       "      <td>t</td>\n",
       "      <td>t</td>\n",
       "      <td>100%</td>\n",
       "      <td>f</td>\n",
       "      <td>40.736001</td>\n",
       "      <td>-73.924248</td>\n",
       "      <td>...</td>\n",
       "      <td>False</td>\n",
       "      <td>False</td>\n",
       "      <td>False</td>\n",
       "      <td>False</td>\n",
       "      <td>False</td>\n",
       "      <td>True</td>\n",
       "      <td>False</td>\n",
       "      <td>30</td>\n",
       "      <td>1000</td>\n",
       "      <td>4717.0</td>\n",
       "    </tr>\n",
       "    <tr>\n",
       "      <th>4</th>\n",
       "      <td>5.480639</td>\n",
       "      <td>4</td>\n",
       "      <td>1.0</td>\n",
       "      <td>True</td>\n",
       "      <td>t</td>\n",
       "      <td>t</td>\n",
       "      <td>100%</td>\n",
       "      <td>f</td>\n",
       "      <td>37.744896</td>\n",
       "      <td>-122.430665</td>\n",
       "      <td>...</td>\n",
       "      <td>False</td>\n",
       "      <td>False</td>\n",
       "      <td>False</td>\n",
       "      <td>False</td>\n",
       "      <td>False</td>\n",
       "      <td>False</td>\n",
       "      <td>True</td>\n",
       "      <td>24</td>\n",
       "      <td>1000</td>\n",
       "      <td>4362.0</td>\n",
       "    </tr>\n",
       "  </tbody>\n",
       "</table>\n",
       "<p>5 rows × 63 columns</p>\n",
       "</div>"
      ],
      "text/plain": [
       "   log_price  accommodates  bathrooms  cleaning_fee host_has_profile_pic  \\\n",
       "0   4.317488             3        1.0         False                    t   \n",
       "1   4.007333             4        2.0         False                    t   \n",
       "2   7.090077             6        2.0         False                    t   \n",
       "3   3.555348             1        1.0          True                    t   \n",
       "4   5.480639             4        1.0          True                    t   \n",
       "\n",
       "  host_identity_verified host_response_rate instant_bookable   latitude  \\\n",
       "0                      f                NaN                t  33.782712   \n",
       "1                      t               100%                t  40.705468   \n",
       "2                      f                NaN                t  38.917537   \n",
       "3                      t               100%                f  40.736001   \n",
       "4                      t               100%                f  37.744896   \n",
       "\n",
       "    longitude  ... cancellation_policy_super_strict_30  \\\n",
       "0 -118.134410  ...                               False   \n",
       "1  -73.909439  ...                               False   \n",
       "2  -77.031651  ...                               False   \n",
       "3  -73.924248  ...                               False   \n",
       "4 -122.430665  ...                               False   \n",
       "\n",
       "   cancellation_policy_super_strict_60  city_Chicago  city_DC  city_LA  \\\n",
       "0                                False         False    False     True   \n",
       "1                                False         False    False    False   \n",
       "2                                False         False     True    False   \n",
       "3                                False         False    False    False   \n",
       "4                                False         False    False    False   \n",
       "\n",
       "   city_NYC  city_SF  n_amenities  desc_length  host_duration  \n",
       "0     False    False           15          669         3492.0  \n",
       "1      True    False           25         1000         3164.0  \n",
       "2     False    False           20          494         3127.0  \n",
       "3      True    False           30         1000         4717.0  \n",
       "4     False     True           24         1000         4362.0  \n",
       "\n",
       "[5 rows x 63 columns]"
      ]
     },
     "execution_count": 1,
     "metadata": {},
     "output_type": "execute_result"
    }
   ],
   "source": [
    "import pandas as pd\n",
    "import numpy as np\n",
    "from sklearn.model_selection import train_test_split\n",
    "from sklearn.metrics import mean_squared_error\n",
    "from sklearn.linear_model import LinearRegression, Ridge, Lasso\n",
    "from sklearn.ensemble import RandomForestRegressor\n",
    "from xgboost import XGBRegressor\n",
    "from math import sqrt\n",
    "import matplotlib.pyplot as plt\n",
    "import seaborn as sns\n",
    "\n",
    "# Chargement des données nettoyées depuis le notebook 2\n",
    "df = pd.read_csv(\"train_ready.csv\")\n",
    "print(\"Shape:\", df.shape)\n",
    "df.head()\n"
   ]
  },
  {
   "cell_type": "code",
   "execution_count": 2,
   "id": "0d525b11",
   "metadata": {},
   "outputs": [
    {
     "name": "stdout",
     "output_type": "stream",
     "text": [
      "Types de colonnes : float32    61\n",
      "Name: count, dtype: int64\n"
     ]
    }
   ],
   "source": [
    "# Séparation features / target\n",
    "X = df.drop(\"log_price\", axis=1)\n",
    "y = df[\"log_price\"]\n",
    "\n",
    "# 🔹 Étape 1 : Supprimer les colonnes textuelles ou inutiles restantes (si présentes)\n",
    "drop_cols = ['neighbourhood', 'name', 'zipcode', 'description', 'amenities', 'first_review', 'last_review', 'host_since']\n",
    "for col in drop_cols:\n",
    "    if col in X.columns:\n",
    "        X.drop(col, axis=1, inplace=True)\n",
    "\n",
    "# 🔹 Étape 2 : Convertir les colonnes booléennes ou avec 't'/'f'\n",
    "bool_cols = ['cleaning_fee', 'host_has_profile_pic', 'host_identity_verified', 'instant_bookable']\n",
    "for col in bool_cols:\n",
    "    if col in X.columns:\n",
    "        X[col] = X[col].map({'t': 1, 'f': 0, 'True': 1, 'False': 0, True: 1, False: 0}).fillna(0)\n",
    "\n",
    "# 🔹 Étape 3 : Nettoyer les pourcentages (host_response_rate)\n",
    "if 'host_response_rate' in X.columns:\n",
    "    X['host_response_rate'] = X['host_response_rate'].str.rstrip('%').astype(float)\n",
    "\n",
    "# 🔹 Étape 4 : Forcer tous les types en float32\n",
    "X = X.astype(np.float32)\n",
    "\n",
    "# Vérification finale\n",
    "print(\"Types de colonnes :\", X.dtypes.value_counts())\n"
   ]
  },
  {
   "cell_type": "code",
   "execution_count": 6,
   "id": "3924ff1c",
   "metadata": {},
   "outputs": [],
   "source": [
    "# 🔄 Remplacer les NaN restants par la moyenne de chaque colonne\n",
    "X = X.fillna(X.mean())\n"
   ]
  },
  {
   "cell_type": "code",
   "execution_count": 7,
   "id": "ee3bb54b",
   "metadata": {},
   "outputs": [
    {
     "name": "stdout",
     "output_type": "stream",
     "text": [
      "Train shape : (17787, 61)\n",
      "Validation shape : (4447, 61)\n"
     ]
    }
   ],
   "source": [
    "X_train, X_val, y_train, y_val = train_test_split(X, y, test_size=0.2, random_state=42)\n",
    "print(\"Train shape :\", X_train.shape)\n",
    "print(\"Validation shape :\", X_val.shape)\n"
   ]
  },
  {
   "cell_type": "code",
   "execution_count": 4,
   "id": "33e4b66d",
   "metadata": {},
   "outputs": [
    {
     "name": "stdout",
     "output_type": "stream",
     "text": [
      "Baseline RMSE (mean predictor) : 0.7159\n"
     ]
    }
   ],
   "source": [
    "baseline_pred = [y_train.mean()] * len(y_val)\n",
    "baseline_rmse = sqrt(mean_squared_error(y_val, baseline_pred))\n",
    "print(f\"Baseline RMSE (mean predictor) : {baseline_rmse:.4f}\")\n"
   ]
  },
  {
   "cell_type": "code",
   "execution_count": 8,
   "id": "0c64537b",
   "metadata": {},
   "outputs": [
    {
     "name": "stdout",
     "output_type": "stream",
     "text": [
      "Linear Regression RMSE : 0.5840\n"
     ]
    }
   ],
   "source": [
    "lr = LinearRegression()\n",
    "lr.fit(X_train, y_train)\n",
    "y_pred_lr = lr.predict(X_val)\n",
    "\n",
    "rmse_lr = sqrt(mean_squared_error(y_val, y_pred_lr))\n",
    "print(f\"Linear Regression RMSE : {rmse_lr:.4f}\")\n"
   ]
  },
  {
   "cell_type": "code",
   "execution_count": 9,
   "id": "993e45ca",
   "metadata": {},
   "outputs": [
    {
     "name": "stdout",
     "output_type": "stream",
     "text": [
      "Ridge RMSE : 0.4770\n",
      "Lasso RMSE : 0.5834\n"
     ]
    },
    {
     "name": "stderr",
     "output_type": "stream",
     "text": [
      "c:\\Users\\soso8\\AppData\\Local\\Programs\\Python\\Python313\\Lib\\site-packages\\sklearn\\linear_model\\_ridge.py:215: LinAlgWarning: Ill-conditioned matrix (rcond=8.67649e-11): result may not be accurate.\n",
      "  return linalg.solve(A, Xy, assume_a=\"pos\", overwrite_a=True).T\n"
     ]
    }
   ],
   "source": [
    "ridge = Ridge(alpha=1.0)\n",
    "ridge.fit(X_train, y_train)\n",
    "rmse_ridge = sqrt(mean_squared_error(y_val, ridge.predict(X_val)))\n",
    "\n",
    "lasso = Lasso(alpha=0.1)\n",
    "lasso.fit(X_train, y_train)\n",
    "rmse_lasso = sqrt(mean_squared_error(y_val, lasso.predict(X_val)))\n",
    "\n",
    "print(f\"Ridge RMSE : {rmse_ridge:.4f}\")\n",
    "print(f\"Lasso RMSE : {rmse_lasso:.4f}\")\n"
   ]
  },
  {
   "cell_type": "code",
   "execution_count": 10,
   "id": "1fec8dac",
   "metadata": {},
   "outputs": [
    {
     "name": "stdout",
     "output_type": "stream",
     "text": [
      "Random Forest RMSE : 0.4117\n"
     ]
    }
   ],
   "source": [
    "rf = RandomForestRegressor(n_estimators=100, random_state=42, n_jobs=-1)\n",
    "rf.fit(X_train, y_train)\n",
    "y_pred_rf = rf.predict(X_val)\n",
    "\n",
    "rmse_rf = sqrt(mean_squared_error(y_val, y_pred_rf))\n",
    "print(f\"Random Forest RMSE : {rmse_rf:.4f}\")\n"
   ]
  },
  {
   "cell_type": "code",
   "execution_count": 11,
   "id": "947fd3b5",
   "metadata": {},
   "outputs": [
    {
     "name": "stdout",
     "output_type": "stream",
     "text": [
      "XGBoost RMSE : 0.4016\n"
     ]
    }
   ],
   "source": [
    "xgb = XGBRegressor(n_estimators=100, learning_rate=0.1, random_state=42, n_jobs=-1)\n",
    "xgb.fit(X_train, y_train)\n",
    "y_pred_xgb = xgb.predict(X_val)\n",
    "\n",
    "rmse_xgb = sqrt(mean_squared_error(y_val, y_pred_xgb))\n",
    "print(f\"XGBoost RMSE : {rmse_xgb:.4f}\")\n"
   ]
  },
  {
   "cell_type": "code",
   "execution_count": 12,
   "id": "ffb412da",
   "metadata": {},
   "outputs": [
    {
     "data": {
      "text/html": [
       "<style type=\"text/css\">\n",
       "#T_0c0a3_row0_col1 {\n",
       "  background-color: #440154;\n",
       "  color: #f1f1f1;\n",
       "}\n",
       "#T_0c0a3_row1_col1 {\n",
       "  background-color: #470d60;\n",
       "  color: #f1f1f1;\n",
       "}\n",
       "#T_0c0a3_row2_col1 {\n",
       "  background-color: #3c4f8a;\n",
       "  color: #f1f1f1;\n",
       "}\n",
       "#T_0c0a3_row3_col1, #T_0c0a3_row4_col1 {\n",
       "  background-color: #20a386;\n",
       "  color: #f1f1f1;\n",
       "}\n",
       "#T_0c0a3_row5_col1 {\n",
       "  background-color: #fde725;\n",
       "  color: #000000;\n",
       "}\n",
       "</style>\n",
       "<table id=\"T_0c0a3\">\n",
       "  <thead>\n",
       "    <tr>\n",
       "      <th class=\"blank level0\" >&nbsp;</th>\n",
       "      <th id=\"T_0c0a3_level0_col0\" class=\"col_heading level0 col0\" >Modèle</th>\n",
       "      <th id=\"T_0c0a3_level0_col1\" class=\"col_heading level0 col1\" >RMSE</th>\n",
       "    </tr>\n",
       "  </thead>\n",
       "  <tbody>\n",
       "    <tr>\n",
       "      <th id=\"T_0c0a3_level0_row0\" class=\"row_heading level0 row0\" >0</th>\n",
       "      <td id=\"T_0c0a3_row0_col0\" class=\"data row0 col0\" >XGBoost</td>\n",
       "      <td id=\"T_0c0a3_row0_col1\" class=\"data row0 col1\" >0.401558</td>\n",
       "    </tr>\n",
       "    <tr>\n",
       "      <th id=\"T_0c0a3_level0_row1\" class=\"row_heading level0 row1\" >1</th>\n",
       "      <td id=\"T_0c0a3_row1_col0\" class=\"data row1 col0\" >RandomForest</td>\n",
       "      <td id=\"T_0c0a3_row1_col1\" class=\"data row1 col1\" >0.411729</td>\n",
       "    </tr>\n",
       "    <tr>\n",
       "      <th id=\"T_0c0a3_level0_row2\" class=\"row_heading level0 row2\" >2</th>\n",
       "      <td id=\"T_0c0a3_row2_col0\" class=\"data row2 col0\" >Ridge</td>\n",
       "      <td id=\"T_0c0a3_row2_col1\" class=\"data row2 col1\" >0.476998</td>\n",
       "    </tr>\n",
       "    <tr>\n",
       "      <th id=\"T_0c0a3_level0_row3\" class=\"row_heading level0 row3\" >3</th>\n",
       "      <td id=\"T_0c0a3_row3_col0\" class=\"data row3 col0\" >Lasso</td>\n",
       "      <td id=\"T_0c0a3_row3_col1\" class=\"data row3 col1\" >0.583391</td>\n",
       "    </tr>\n",
       "    <tr>\n",
       "      <th id=\"T_0c0a3_level0_row4\" class=\"row_heading level0 row4\" >4</th>\n",
       "      <td id=\"T_0c0a3_row4_col0\" class=\"data row4 col0\" >LinearRegression</td>\n",
       "      <td id=\"T_0c0a3_row4_col1\" class=\"data row4 col1\" >0.584001</td>\n",
       "    </tr>\n",
       "    <tr>\n",
       "      <th id=\"T_0c0a3_level0_row5\" class=\"row_heading level0 row5\" >5</th>\n",
       "      <td id=\"T_0c0a3_row5_col0\" class=\"data row5 col0\" >Baseline</td>\n",
       "      <td id=\"T_0c0a3_row5_col1\" class=\"data row5 col1\" >0.715868</td>\n",
       "    </tr>\n",
       "  </tbody>\n",
       "</table>\n"
      ],
      "text/plain": [
       "<pandas.io.formats.style.Styler at 0x24715931550>"
      ]
     },
     "execution_count": 12,
     "metadata": {},
     "output_type": "execute_result"
    }
   ],
   "source": [
    "results = pd.DataFrame({\n",
    "    'Modèle': ['Baseline', 'LinearRegression', 'Ridge', 'Lasso', 'RandomForest', 'XGBoost'],\n",
    "    'RMSE': [baseline_rmse, rmse_lr, rmse_ridge, rmse_lasso, rmse_rf, rmse_xgb]\n",
    "})\n",
    "\n",
    "results = results.sort_values('RMSE').reset_index(drop=True)\n",
    "results.style.background_gradient(cmap=\"viridis\", subset=[\"RMSE\"])\n"
   ]
  }
 ],
 "metadata": {
  "kernelspec": {
   "display_name": "Python 3",
   "language": "python",
   "name": "python3"
  },
  "language_info": {
   "codemirror_mode": {
    "name": "ipython",
    "version": 3
   },
   "file_extension": ".py",
   "mimetype": "text/x-python",
   "name": "python",
   "nbconvert_exporter": "python",
   "pygments_lexer": "ipython3",
   "version": "3.13.3"
  }
 },
 "nbformat": 4,
 "nbformat_minor": 5
}
