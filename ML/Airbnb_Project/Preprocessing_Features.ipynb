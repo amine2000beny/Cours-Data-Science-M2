{
 "cells": [
  {
   "cell_type": "markdown",
   "id": "9ea6fb02",
   "metadata": {},
   "source": [
    "# Notebook 2 – Prétraitement et Feature Engineering\n",
    "\n",
    "**Objectif :** Préparer les données du dataset Airbnb pour l'entraînement des modèles.\n",
    "\n",
    "Ce notebook contient :\n",
    "- Le traitement des valeurs manquantes\n",
    "- L'encodage des variables catégorielles\n",
    "- La création de nouvelles variables (feature engineering)\n",
    "- L'enregistrement du dataset nettoyé\n"
   ]
  },
  {
   "cell_type": "code",
   "execution_count": 1,
   "id": "5d2cc065",
   "metadata": {},
   "outputs": [
    {
     "name": "stdout",
     "output_type": "stream",
     "text": [
      "Shape: (22234, 28)\n"
     ]
    },
    {
     "data": {
      "text/html": [
       "<div>\n",
       "<style scoped>\n",
       "    .dataframe tbody tr th:only-of-type {\n",
       "        vertical-align: middle;\n",
       "    }\n",
       "\n",
       "    .dataframe tbody tr th {\n",
       "        vertical-align: top;\n",
       "    }\n",
       "\n",
       "    .dataframe thead th {\n",
       "        text-align: right;\n",
       "    }\n",
       "</style>\n",
       "<table border=\"1\" class=\"dataframe\">\n",
       "  <thead>\n",
       "    <tr style=\"text-align: right;\">\n",
       "      <th></th>\n",
       "      <th>id</th>\n",
       "      <th>log_price</th>\n",
       "      <th>property_type</th>\n",
       "      <th>room_type</th>\n",
       "      <th>amenities</th>\n",
       "      <th>accommodates</th>\n",
       "      <th>bathrooms</th>\n",
       "      <th>bed_type</th>\n",
       "      <th>cancellation_policy</th>\n",
       "      <th>cleaning_fee</th>\n",
       "      <th>...</th>\n",
       "      <th>last_review</th>\n",
       "      <th>latitude</th>\n",
       "      <th>longitude</th>\n",
       "      <th>name</th>\n",
       "      <th>neighbourhood</th>\n",
       "      <th>number_of_reviews</th>\n",
       "      <th>review_scores_rating</th>\n",
       "      <th>zipcode</th>\n",
       "      <th>bedrooms</th>\n",
       "      <th>beds</th>\n",
       "    </tr>\n",
       "  </thead>\n",
       "  <tbody>\n",
       "    <tr>\n",
       "      <th>0</th>\n",
       "      <td>5708593</td>\n",
       "      <td>4.317488</td>\n",
       "      <td>House</td>\n",
       "      <td>Private room</td>\n",
       "      <td>{TV,\"Wireless Internet\",Kitchen,\"Free parking ...</td>\n",
       "      <td>3</td>\n",
       "      <td>1.0</td>\n",
       "      <td>Real Bed</td>\n",
       "      <td>flexible</td>\n",
       "      <td>False</td>\n",
       "      <td>...</td>\n",
       "      <td>NaN</td>\n",
       "      <td>33.782712</td>\n",
       "      <td>-118.134410</td>\n",
       "      <td>Island style Spa Studio</td>\n",
       "      <td>Long Beach</td>\n",
       "      <td>0</td>\n",
       "      <td>NaN</td>\n",
       "      <td>90804</td>\n",
       "      <td>0.0</td>\n",
       "      <td>2.0</td>\n",
       "    </tr>\n",
       "    <tr>\n",
       "      <th>1</th>\n",
       "      <td>14483613</td>\n",
       "      <td>4.007333</td>\n",
       "      <td>House</td>\n",
       "      <td>Private room</td>\n",
       "      <td>{\"Wireless Internet\",\"Air conditioning\",Kitche...</td>\n",
       "      <td>4</td>\n",
       "      <td>2.0</td>\n",
       "      <td>Real Bed</td>\n",
       "      <td>strict</td>\n",
       "      <td>False</td>\n",
       "      <td>...</td>\n",
       "      <td>2017-09-17</td>\n",
       "      <td>40.705468</td>\n",
       "      <td>-73.909439</td>\n",
       "      <td>Beautiful and Simple Room W/2 Beds, 25 Mins to...</td>\n",
       "      <td>Ridgewood</td>\n",
       "      <td>38</td>\n",
       "      <td>86.0</td>\n",
       "      <td>11385</td>\n",
       "      <td>1.0</td>\n",
       "      <td>2.0</td>\n",
       "    </tr>\n",
       "    <tr>\n",
       "      <th>2</th>\n",
       "      <td>10412649</td>\n",
       "      <td>7.090077</td>\n",
       "      <td>Apartment</td>\n",
       "      <td>Entire home/apt</td>\n",
       "      <td>{TV,\"Wireless Internet\",\"Air conditioning\",Kit...</td>\n",
       "      <td>6</td>\n",
       "      <td>2.0</td>\n",
       "      <td>Real Bed</td>\n",
       "      <td>flexible</td>\n",
       "      <td>False</td>\n",
       "      <td>...</td>\n",
       "      <td>NaN</td>\n",
       "      <td>38.917537</td>\n",
       "      <td>-77.031651</td>\n",
       "      <td>2br/2ba luxury condo perfect for infant / toddler</td>\n",
       "      <td>U Street Corridor</td>\n",
       "      <td>0</td>\n",
       "      <td>NaN</td>\n",
       "      <td>20009</td>\n",
       "      <td>2.0</td>\n",
       "      <td>2.0</td>\n",
       "    </tr>\n",
       "    <tr>\n",
       "      <th>3</th>\n",
       "      <td>17954362</td>\n",
       "      <td>3.555348</td>\n",
       "      <td>House</td>\n",
       "      <td>Private room</td>\n",
       "      <td>{TV,\"Cable TV\",Internet,\"Wireless Internet\",\"A...</td>\n",
       "      <td>1</td>\n",
       "      <td>1.0</td>\n",
       "      <td>Real Bed</td>\n",
       "      <td>flexible</td>\n",
       "      <td>True</td>\n",
       "      <td>...</td>\n",
       "      <td>2017-09-29</td>\n",
       "      <td>40.736001</td>\n",
       "      <td>-73.924248</td>\n",
       "      <td>Manhattan view from Queens. Lovely single room .</td>\n",
       "      <td>Sunnyside</td>\n",
       "      <td>19</td>\n",
       "      <td>96.0</td>\n",
       "      <td>11104</td>\n",
       "      <td>1.0</td>\n",
       "      <td>1.0</td>\n",
       "    </tr>\n",
       "    <tr>\n",
       "      <th>4</th>\n",
       "      <td>9969781</td>\n",
       "      <td>5.480639</td>\n",
       "      <td>House</td>\n",
       "      <td>Entire home/apt</td>\n",
       "      <td>{TV,\"Cable TV\",Internet,\"Wireless Internet\",Ki...</td>\n",
       "      <td>4</td>\n",
       "      <td>1.0</td>\n",
       "      <td>Real Bed</td>\n",
       "      <td>moderate</td>\n",
       "      <td>True</td>\n",
       "      <td>...</td>\n",
       "      <td>2017-08-28</td>\n",
       "      <td>37.744896</td>\n",
       "      <td>-122.430665</td>\n",
       "      <td>Zen Captured Noe Valley House</td>\n",
       "      <td>Noe Valley</td>\n",
       "      <td>15</td>\n",
       "      <td>96.0</td>\n",
       "      <td>94131</td>\n",
       "      <td>2.0</td>\n",
       "      <td>2.0</td>\n",
       "    </tr>\n",
       "  </tbody>\n",
       "</table>\n",
       "<p>5 rows × 28 columns</p>\n",
       "</div>"
      ],
      "text/plain": [
       "         id  log_price property_type        room_type  \\\n",
       "0   5708593   4.317488         House     Private room   \n",
       "1  14483613   4.007333         House     Private room   \n",
       "2  10412649   7.090077     Apartment  Entire home/apt   \n",
       "3  17954362   3.555348         House     Private room   \n",
       "4   9969781   5.480639         House  Entire home/apt   \n",
       "\n",
       "                                           amenities  accommodates  bathrooms  \\\n",
       "0  {TV,\"Wireless Internet\",Kitchen,\"Free parking ...             3        1.0   \n",
       "1  {\"Wireless Internet\",\"Air conditioning\",Kitche...             4        2.0   \n",
       "2  {TV,\"Wireless Internet\",\"Air conditioning\",Kit...             6        2.0   \n",
       "3  {TV,\"Cable TV\",Internet,\"Wireless Internet\",\"A...             1        1.0   \n",
       "4  {TV,\"Cable TV\",Internet,\"Wireless Internet\",Ki...             4        1.0   \n",
       "\n",
       "   bed_type cancellation_policy  cleaning_fee  ... last_review   latitude  \\\n",
       "0  Real Bed            flexible         False  ...         NaN  33.782712   \n",
       "1  Real Bed              strict         False  ...  2017-09-17  40.705468   \n",
       "2  Real Bed            flexible         False  ...         NaN  38.917537   \n",
       "3  Real Bed            flexible          True  ...  2017-09-29  40.736001   \n",
       "4  Real Bed            moderate          True  ...  2017-08-28  37.744896   \n",
       "\n",
       "    longitude                                               name  \\\n",
       "0 -118.134410                            Island style Spa Studio   \n",
       "1  -73.909439  Beautiful and Simple Room W/2 Beds, 25 Mins to...   \n",
       "2  -77.031651  2br/2ba luxury condo perfect for infant / toddler   \n",
       "3  -73.924248   Manhattan view from Queens. Lovely single room .   \n",
       "4 -122.430665                      Zen Captured Noe Valley House   \n",
       "\n",
       "       neighbourhood number_of_reviews review_scores_rating zipcode bedrooms  \\\n",
       "0         Long Beach                 0                  NaN   90804      0.0   \n",
       "1          Ridgewood                38                 86.0   11385      1.0   \n",
       "2  U Street Corridor                 0                  NaN   20009      2.0   \n",
       "3          Sunnyside                19                 96.0   11104      1.0   \n",
       "4         Noe Valley                15                 96.0   94131      2.0   \n",
       "\n",
       "   beds  \n",
       "0   2.0  \n",
       "1   2.0  \n",
       "2   2.0  \n",
       "3   1.0  \n",
       "4   2.0  \n",
       "\n",
       "[5 rows x 28 columns]"
      ]
     },
     "execution_count": 1,
     "metadata": {},
     "output_type": "execute_result"
    }
   ],
   "source": [
    "import pandas as pd\n",
    "import numpy as np\n",
    "\n",
    "# Chargement du dataset brut ou nettoyé\n",
    "df = pd.read_csv(\"airbnb_train.csv\")  # ou \"airbnb_train_clean.csv\"\n",
    "print(\"Shape:\", df.shape)\n",
    "df.head()\n"
   ]
  },
  {
   "cell_type": "markdown",
   "id": "cd20a894",
   "metadata": {},
   "source": [
    "## Traitement des valeurs manquantes\n"
   ]
  },
  {
   "cell_type": "code",
   "execution_count": 2,
   "id": "667a6cf0",
   "metadata": {},
   "outputs": [
    {
     "data": {
      "text/plain": [
       "host_response_rate    5475\n",
       "first_review          4725\n",
       "last_review           4716\n",
       "neighbourhood         2086\n",
       "zipcode                303\n",
       "host_since              56\n",
       "amenities                0\n",
       "accommodates             0\n",
       "id                       0\n",
       "log_price                0\n",
       "dtype: int64"
      ]
     },
     "execution_count": 2,
     "metadata": {},
     "output_type": "execute_result"
    }
   ],
   "source": [
    "# Exemple de stratégie simple (à adapter) :\n",
    "df['review_scores_rating'] = df['review_scores_rating'].fillna(df['review_scores_rating'].mean())\n",
    "df['bedrooms'] = df['bedrooms'].fillna(df['bedrooms'].median())\n",
    "df['beds'] = df['beds'].fillna(df['beds'].median())\n",
    "df['bathrooms'] = df['bathrooms'].fillna(df['bathrooms'].median())\n",
    "\n",
    "# Colonnes booléennes\n",
    "df['host_has_profile_pic'] = df['host_has_profile_pic'].fillna(False)\n",
    "df['host_identity_verified'] = df['host_identity_verified'].fillna(False)\n",
    "df['cleaning_fee'] = df['cleaning_fee'].fillna('False')  # si booléen ou montant\n",
    "\n",
    "# Colonnes texte\n",
    "df['description'] = df['description'].fillna('')\n",
    "df['amenities'] = df['amenities'].fillna('')\n",
    "\n",
    "df.isnull().sum().sort_values(ascending=False).head(10)\n"
   ]
  },
  {
   "cell_type": "markdown",
   "id": "776b62c3",
   "metadata": {},
   "source": [
    "## Encodage des variables catégorielles\n"
   ]
  },
  {
   "cell_type": "code",
   "execution_count": 3,
   "id": "fe044191",
   "metadata": {},
   "outputs": [
    {
     "data": {
      "text/plain": [
       "(22234, 68)"
      ]
     },
     "execution_count": 3,
     "metadata": {},
     "output_type": "execute_result"
    }
   ],
   "source": [
    "from sklearn.preprocessing import OneHotEncoder\n",
    "\n",
    "cat_cols = ['room_type', 'property_type', 'bed_type', 'cancellation_policy', 'city']\n",
    "df_encoded = pd.get_dummies(df, columns=cat_cols, drop_first=True)\n",
    "\n",
    "df_encoded.shape\n"
   ]
  },
  {
   "cell_type": "code",
   "execution_count": null,
   "id": "91007b74",
   "metadata": {},
   "outputs": [],
   "source": [
    "# Nombre d'éléments dans 'amenities'\n",
    "df_encoded['n_amenities'] = df['amenities'].apply(lambda x: len(x.split(',')))\n",
    "\n",
    "# Longueur de la description\n",
    "df_encoded['desc_length'] = df['description'].apply(lambda x: len(x))\n",
    "\n",
    "# Ancienneté de l'hôte en jours\n",
    "df['host_since'] = pd.to_datetime(df['host_since'], errors='coerce')\n",
    "df_encoded['host_duration'] = (pd.to_datetime('today') - df['host_since']).dt.days.fillna(0)\n",
    "\n"
   ]
  },
  {
   "cell_type": "markdown",
   "id": "97914038",
   "metadata": {},
   "source": [
    "##  Suppression des colonnes inutiles\n"
   ]
  },
  {
   "cell_type": "code",
   "execution_count": 6,
   "id": "4f14cd9f",
   "metadata": {},
   "outputs": [],
   "source": [
    "df_encoded.drop(['id', 'name', 'description', 'amenities', 'first_review', 'last_review', 'zipcode', 'host_since'], axis=1, inplace=True)\n"
   ]
  },
  {
   "cell_type": "code",
   "execution_count": 7,
   "id": "e8d976b2",
   "metadata": {},
   "outputs": [
    {
     "name": "stdout",
     "output_type": "stream",
     "text": [
      "✅ Données prêtes enregistrées dans 'train_ready.csv'\n"
     ]
    }
   ],
   "source": [
    "df_encoded.to_csv(\"train_ready.csv\", index=False)\n",
    "print(\"✅ Données prêtes enregistrées dans 'train_ready.csv'\")\n"
   ]
  }
 ],
 "metadata": {
  "kernelspec": {
   "display_name": "Python 3",
   "language": "python",
   "name": "python3"
  },
  "language_info": {
   "codemirror_mode": {
    "name": "ipython",
    "version": 3
   },
   "file_extension": ".py",
   "mimetype": "text/x-python",
   "name": "python",
   "nbconvert_exporter": "python",
   "pygments_lexer": "ipython3",
   "version": "3.13.3"
  }
 },
 "nbformat": 4,
 "nbformat_minor": 5
}
